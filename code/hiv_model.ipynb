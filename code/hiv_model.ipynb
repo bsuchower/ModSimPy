{
 "cells": [
  {
   "cell_type": "markdown",
   "metadata": {},
   "source": [
    "# HIV Model"
   ]
  },
  {
   "cell_type": "markdown",
   "metadata": {},
   "source": [
    "Becca Suchower"
   ]
  },
  {
   "cell_type": "code",
   "execution_count": 100,
   "metadata": {},
   "outputs": [],
   "source": [
    "# Configure Jupyter so figures appear in the notebook\n",
    "%matplotlib inline\n",
    "\n",
    "# Configure Jupyter to display the assigned value after an assignment\n",
    "%config InteractiveShell.ast_node_interactivity='last_expr_or_assign'\n",
    "\n",
    "# import functions from the modsim.py module\n",
    "from modsim import *\n",
    "\n",
    "from pandas import read_html"
   ]
  },
  {
   "cell_type": "code",
   "execution_count": 101,
   "metadata": {},
   "outputs": [],
   "source": [
    "def make_system():\n",
    "    \"\"\"\n",
    "    R = activated lymphocytes\n",
    "    L = latently infected cells\n",
    "    E = actively infected cells\n",
    "    V = free virions\n",
    "    \"\"\"\n",
    "    init = State(R=200, L=0, E=0, V=100)\n",
    "    \n",
    "    t0 = 0\n",
    "    t_end = 120  \n",
    "    \n",
    "    'initializes rates'\n",
    "    'Rate is Value/Day'\n",
    "\n",
    "    'rate at which uninfected CD4 lymphocytes arise'\n",
    "    gamma = 1.36 \n",
    "\n",
    "    'HIV independent death rate of uninfected CD4 lymphocytes'\n",
    "    mu = 0.00136 \n",
    "\n",
    "    'proportion of cells activated'\n",
    "    tau = 0.2 \n",
    "\n",
    "    'rate of infection of CD4 lymphocytes per virion'\n",
    "    beta = 0.00027   \n",
    "\n",
    "    'proportion of cells becoming latently infected upon infection'\n",
    "    rho = 0.1 \n",
    "\n",
    "    'activation rate of latently infected cells'\n",
    "    alpha = 0.036 \n",
    "\n",
    "    'removal rate of cell free virus'\n",
    "    sigma = 2 \n",
    "\n",
    "    'removal (death) rate of actively infected CD4'\n",
    "    delta = 0.33\n",
    "\n",
    "    'rate of production of virions by an actively infected cell'\n",
    "    pi = 100 \n",
    "\n",
    "    dt = 0.1\n",
    "    \n",
    "    return System(init=init, t0=t0, t_end=t_end, gamma=gamma, mu=mu, tau=tau, beta=beta, \n",
    "                  rho=rho, alpha=alpha, sigma=sigma, delta=delta, pi=pi, dt=dt)"
   ]
  },
  {
   "cell_type": "code",
   "execution_count": 102,
   "metadata": {},
   "outputs": [],
   "source": [
    "def update_func(state, dt, system):\n",
    "    unpack(system)\n",
    "    R, L, E, V = state\n",
    "   \n",
    "    dr = (gamma*tau - mu*R - beta*R*V) * dt\n",
    "    dl = (rho*beta*R*V - mu*L - alpha*L) * dt\n",
    "    de = ((1-rho)*beta*R*V + alpha*L - delta*E) * dt\n",
    "    dv = (pi*E - sigma*V) *dt\n",
    "    \n",
    "    R += dr \n",
    "    L += dl\n",
    "    E += de\n",
    "    V += dv\n",
    "    \n",
    "    return State(R=R, L=L, E=E, V=V)"
   ]
  },
  {
   "cell_type": "code",
   "execution_count": 103,
   "metadata": {},
   "outputs": [],
   "source": [
    "def run_simulation(system, update_func):\n",
    "    \"\"\"Runs a simulation of the system.\n",
    "        \n",
    "    system: System object\n",
    "    update_func: function that updates state\n",
    "    \n",
    "    returns: TimeFrame\n",
    "    \"\"\"\n",
    "    unpack(system)\n",
    "    \n",
    "    frame = TimeFrame(columns=init.index)\n",
    "    frame.row[t0] = init\n",
    "    \n",
    "    for t in linrange(t0, t_end, dt):\n",
    "        frame.row[t+dt] = update_func(frame.row[t], dt, system)\n",
    "    \n",
    "    return frame"
   ]
  },
  {
   "cell_type": "code",
   "execution_count": 104,
   "metadata": {},
   "outputs": [
    {
     "data": {
      "text/html": [
       "<div>\n",
       "<style scoped>\n",
       "    .dataframe tbody tr th:only-of-type {\n",
       "        vertical-align: middle;\n",
       "    }\n",
       "\n",
       "    .dataframe tbody tr th {\n",
       "        vertical-align: top;\n",
       "    }\n",
       "\n",
       "    .dataframe thead th {\n",
       "        text-align: right;\n",
       "    }\n",
       "</style>\n",
       "<table border=\"1\" class=\"dataframe\">\n",
       "  <thead>\n",
       "    <tr style=\"text-align: right;\">\n",
       "      <th></th>\n",
       "      <th>R</th>\n",
       "      <th>L</th>\n",
       "      <th>E</th>\n",
       "      <th>V</th>\n",
       "    </tr>\n",
       "  </thead>\n",
       "  <tbody>\n",
       "    <tr>\n",
       "      <th>0.0</th>\n",
       "      <td>200</td>\n",
       "      <td>0</td>\n",
       "      <td>0</td>\n",
       "      <td>100</td>\n",
       "    </tr>\n",
       "    <tr>\n",
       "      <th>0.1</th>\n",
       "      <td>199.46</td>\n",
       "      <td>0.054</td>\n",
       "      <td>0.486</td>\n",
       "      <td>80</td>\n",
       "    </tr>\n",
       "    <tr>\n",
       "      <th>0.2</th>\n",
       "      <td>199.029</td>\n",
       "      <td>0.0968816</td>\n",
       "      <td>0.857907</td>\n",
       "      <td>68.86</td>\n",
       "    </tr>\n",
       "    <tr>\n",
       "      <th>0.3</th>\n",
       "      <td>198.659</td>\n",
       "      <td>0.133524</td>\n",
       "      <td>1.16298</td>\n",
       "      <td>63.6671</td>\n",
       "    </tr>\n",
       "    <tr>\n",
       "      <th>0.4</th>\n",
       "      <td>198.318</td>\n",
       "      <td>0.167174</td>\n",
       "      <td>1.43243</td>\n",
       "      <td>62.5635</td>\n",
       "    </tr>\n",
       "  </tbody>\n",
       "</table>\n",
       "</div>"
      ],
      "text/plain": [
       "           R          L         E        V\n",
       "0.0      200          0         0      100\n",
       "0.1   199.46      0.054     0.486       80\n",
       "0.2  199.029  0.0968816  0.857907    68.86\n",
       "0.3  198.659   0.133524   1.16298  63.6671\n",
       "0.4  198.318   0.167174   1.43243  62.5635"
      ]
     },
     "execution_count": 104,
     "metadata": {},
     "output_type": "execute_result"
    }
   ],
   "source": [
    "system = make_system()\n",
    "results = run_simulation(system, update_func)\n",
    "results.head()"
   ]
  },
  {
   "cell_type": "code",
   "execution_count": 105,
   "metadata": {},
   "outputs": [],
   "source": [
    "def plot_results(R, L, E):\n",
    "    plot(R, '--', label='R')\n",
    "    plot(L, '-', label='L')\n",
    "    plot(E, ':', label='E')\n",
    "    decorate(xlabel='Days from Infection',\n",
    "             ylabel='Number of Each Cell'\n",
    "            )"
   ]
  },
  {
   "cell_type": "code",
   "execution_count": 106,
   "metadata": {},
   "outputs": [
    {
     "data": {
      "image/png": "[encoded data removed]",
      "text/plain": [
       "<Figure size 432x288 with 1 Axes>"
      ]
     },
     "metadata": {
      "needs_background": "light"
     },
     "output_type": "display_data"
    }
   ],
   "source": [
    "plot_results(results.R, results.L, results.E)"
   ]
  },
  {
   "cell_type": "code",
   "execution_count": 107,
   "metadata": {},
   "outputs": [],
   "source": [
    "def plot_v(V):\n",
    "    plot(V, '-', label='V')\n",
    "    decorate(xlabel='Days from Infection',\n",
    "             ylabel='Number of Virions'\n",
    "            )"
   ]
  },
  {
   "cell_type": "code",
   "execution_count": 108,
   "metadata": {},
   "outputs": [
    {
     "data": {
      "image/png": "[encoded data removed]",
      "text/plain": [
       "<Figure size 432x288 with 1 Axes>"
      ]
     },
     "metadata": {
      "needs_background": "light"
     },
     "output_type": "display_data"
    }
   ],
   "source": [
    "plot_v(results.V)"
   ]
  },
  {
   "cell_type": "code",
   "execution_count": null,
   "metadata": {},
   "outputs": [],
   "source": []
  }
 ],
 "metadata": {
  "kernelspec": {
   "display_name": "Python 3",
   "language": "python",
   "name": "python3"
  },
  "language_info": {
   "codemirror_mode": {
    "name": "ipython",
    "version": 3
   },
   "file_extension": ".py",
   "mimetype": "text/x-python",
   "name": "python",
   "nbconvert_exporter": "python",
   "pygments_lexer": "ipython3",
   "version": "3.6.6"
  }
 },
 "nbformat": 4,
 "nbformat_minor": 2
}
